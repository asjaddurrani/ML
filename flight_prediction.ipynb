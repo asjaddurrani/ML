{
 "cells": [
  {
   "cell_type": "markdown",
   "metadata": {},
   "source": [
    "# Flight Price Prediction Model\n",
    "\n",
    "### Instructions:\n",
    "\n",
    "- You will haev a dataset.\n",
    "- Find the cheapest and expensive flights at a specific time.\n",
    "- You have to go through EDA.\n",
    "- ML Model.\n",
    "- Find a sweet spot for a cheap ticket."
   ]
  },
  {
   "cell_type": "markdown",
   "metadata": {},
   "source": [
    "- Ahmed is a customer of Sastaticket.pk. He is planning to fly from Karachi to Islamabad for his brother’s wedding and is currently in the process of choosing tickets. Ahmed has to go to Islamabad but Ahmed also wants to save some money in the process, so he chooses to wait instead of buy now, simply because ticket prices are just too high.\n",
    "\n",
    "- Is this the right decision? Won’t ticket prices increase in the future? Perhaps there is a sweet-spot Ahmed is hoping to find and maybe he just might find it.This is the problem that you will be tackling in this competition. Can you predict future prices accurately to such a degree that you can now tell Ahmed - with confidence - that he has made the wrong decision.\n",
    "\n",
    "- Your task boils down to generating optimal predictions for flight prices of multiple airlines. If successful, your model will contribute greatly to Sastaticket’s rich and diverse set of operating algorithms."
   ]
  },
  {
   "cell_type": "markdown",
   "metadata": {},
   "source": [
    "# 1. Exploratory Data Analysis\n",
    "We will extract information from our data."
   ]
  },
  {
   "cell_type": "code",
   "execution_count": 112,
   "metadata": {},
   "outputs": [],
   "source": [
    "# import libraries\n",
    "\n",
    "import pandas as pd\n",
    "import numpy as np\n",
    "import matplotlib.pyplot as plt\n",
    "import seaborn as sns\n",
    "import sklearn as sklearn\n",
    "import joblib as joblib\n",
    "import scipy as sp\n",
    "import statsmodels.api as sm\n",
    "import pingouin as pg"
   ]
  },
  {
   "cell_type": "code",
   "execution_count": 113,
   "metadata": {},
   "outputs": [],
   "source": [
    "# Load Dataset\n",
    "\n",
    "X_train = pd.read_csv(\"resources/X_train.csv\")\n",
    "y_train = pd.read_csv(\"resources/y_train.csv\")\n",
    "X_test = pd.read_csv(\"resources/X_test.csv\")\n"
   ]
  },
  {
   "cell_type": "code",
   "execution_count": 114,
   "metadata": {},
   "outputs": [
    {
     "data": {
      "text/plain": [
       "(21776590, 11)"
      ]
     },
     "execution_count": 114,
     "metadata": {},
     "output_type": "execute_result"
    }
   ],
   "source": [
    "# Check hape of data\n",
    "X_train.shape"
   ]
  },
  {
   "cell_type": "code",
   "execution_count": 115,
   "metadata": {},
   "outputs": [
    {
     "data": {
      "text/html": [
       "<div>\n",
       "<style scoped>\n",
       "    .dataframe tbody tr th:only-of-type {\n",
       "        vertical-align: middle;\n",
       "    }\n",
       "\n",
       "    .dataframe tbody tr th {\n",
       "        vertical-align: top;\n",
       "    }\n",
       "\n",
       "    .dataframe thead th {\n",
       "        text-align: right;\n",
       "    }\n",
       "</style>\n",
       "<table border=\"1\" class=\"dataframe\">\n",
       "  <thead>\n",
       "    <tr style=\"text-align: right;\">\n",
       "      <th></th>\n",
       "      <th>Unnamed: 0</th>\n",
       "      <th>f1</th>\n",
       "      <th>f2</th>\n",
       "      <th>f3</th>\n",
       "      <th>f4</th>\n",
       "      <th>f5</th>\n",
       "      <th>f6</th>\n",
       "      <th>f7</th>\n",
       "      <th>f8</th>\n",
       "      <th>f9</th>\n",
       "      <th>f10</th>\n",
       "    </tr>\n",
       "  </thead>\n",
       "  <tbody>\n",
       "    <tr>\n",
       "      <th>0</th>\n",
       "      <td>0</td>\n",
       "      <td>2020-12-31 09:46:17.463002+00:00</td>\n",
       "      <td>x</td>\n",
       "      <td>y</td>\n",
       "      <td>2021-01-10 05:00:00+00:00</td>\n",
       "      <td>2021-01-10 07:00:00+00:00</td>\n",
       "      <td>gamma</td>\n",
       "      <td>True</td>\n",
       "      <td>0.0</td>\n",
       "      <td>0</td>\n",
       "      <td>c-2</td>\n",
       "    </tr>\n",
       "    <tr>\n",
       "      <th>1</th>\n",
       "      <td>1</td>\n",
       "      <td>2020-12-31 09:46:17.463002+00:00</td>\n",
       "      <td>x</td>\n",
       "      <td>y</td>\n",
       "      <td>2021-01-10 05:00:00+00:00</td>\n",
       "      <td>2021-01-10 07:00:00+00:00</td>\n",
       "      <td>gamma</td>\n",
       "      <td>True</td>\n",
       "      <td>32.0</td>\n",
       "      <td>1</td>\n",
       "      <td>c-2</td>\n",
       "    </tr>\n",
       "    <tr>\n",
       "      <th>2</th>\n",
       "      <td>2</td>\n",
       "      <td>2020-12-31 09:46:17.463002+00:00</td>\n",
       "      <td>x</td>\n",
       "      <td>y</td>\n",
       "      <td>2021-01-10 11:00:00+00:00</td>\n",
       "      <td>2021-01-10 13:00:00+00:00</td>\n",
       "      <td>gamma</td>\n",
       "      <td>True</td>\n",
       "      <td>32.0</td>\n",
       "      <td>1</td>\n",
       "      <td>c-4</td>\n",
       "    </tr>\n",
       "    <tr>\n",
       "      <th>3</th>\n",
       "      <td>3</td>\n",
       "      <td>2020-12-31 09:46:17.463002+00:00</td>\n",
       "      <td>x</td>\n",
       "      <td>y</td>\n",
       "      <td>2021-01-10 11:00:00+00:00</td>\n",
       "      <td>2021-01-10 13:00:00+00:00</td>\n",
       "      <td>gamma</td>\n",
       "      <td>True</td>\n",
       "      <td>32.0</td>\n",
       "      <td>2</td>\n",
       "      <td>c-4</td>\n",
       "    </tr>\n",
       "    <tr>\n",
       "      <th>4</th>\n",
       "      <td>4</td>\n",
       "      <td>2020-12-31 09:46:18.191119+00:00</td>\n",
       "      <td>x</td>\n",
       "      <td>y</td>\n",
       "      <td>2021-01-25 11:00:00+00:00</td>\n",
       "      <td>2021-01-25 12:55:00+00:00</td>\n",
       "      <td>beta</td>\n",
       "      <td>False</td>\n",
       "      <td>20.0</td>\n",
       "      <td>0</td>\n",
       "      <td>b-69</td>\n",
       "    </tr>\n",
       "  </tbody>\n",
       "</table>\n",
       "</div>"
      ],
      "text/plain": [
       "   Unnamed: 0                                f1 f2 f3  \\\n",
       "0           0  2020-12-31 09:46:17.463002+00:00  x  y   \n",
       "1           1  2020-12-31 09:46:17.463002+00:00  x  y   \n",
       "2           2  2020-12-31 09:46:17.463002+00:00  x  y   \n",
       "3           3  2020-12-31 09:46:17.463002+00:00  x  y   \n",
       "4           4  2020-12-31 09:46:18.191119+00:00  x  y   \n",
       "\n",
       "                          f4                         f5     f6     f7    f8  \\\n",
       "0  2021-01-10 05:00:00+00:00  2021-01-10 07:00:00+00:00  gamma   True   0.0   \n",
       "1  2021-01-10 05:00:00+00:00  2021-01-10 07:00:00+00:00  gamma   True  32.0   \n",
       "2  2021-01-10 11:00:00+00:00  2021-01-10 13:00:00+00:00  gamma   True  32.0   \n",
       "3  2021-01-10 11:00:00+00:00  2021-01-10 13:00:00+00:00  gamma   True  32.0   \n",
       "4  2021-01-25 11:00:00+00:00  2021-01-25 12:55:00+00:00   beta  False  20.0   \n",
       "\n",
       "   f9   f10  \n",
       "0   0   c-2  \n",
       "1   1   c-2  \n",
       "2   1   c-4  \n",
       "3   2   c-4  \n",
       "4   0  b-69  "
      ]
     },
     "execution_count": 115,
     "metadata": {},
     "output_type": "execute_result"
    }
   ],
   "source": [
    "X_train.head()"
   ]
  },
  {
   "cell_type": "code",
   "execution_count": 116,
   "metadata": {},
   "outputs": [
    {
     "data": {
      "text/html": [
       "<div>\n",
       "<style scoped>\n",
       "    .dataframe tbody tr th:only-of-type {\n",
       "        vertical-align: middle;\n",
       "    }\n",
       "\n",
       "    .dataframe tbody tr th {\n",
       "        vertical-align: top;\n",
       "    }\n",
       "\n",
       "    .dataframe thead th {\n",
       "        text-align: right;\n",
       "    }\n",
       "</style>\n",
       "<table border=\"1\" class=\"dataframe\">\n",
       "  <thead>\n",
       "    <tr style=\"text-align: right;\">\n",
       "      <th></th>\n",
       "      <th>Unnamed: 0</th>\n",
       "      <th>target</th>\n",
       "    </tr>\n",
       "  </thead>\n",
       "  <tbody>\n",
       "    <tr>\n",
       "      <th>0</th>\n",
       "      <td>0</td>\n",
       "      <td>7400.0</td>\n",
       "    </tr>\n",
       "    <tr>\n",
       "      <th>1</th>\n",
       "      <td>1</td>\n",
       "      <td>8650.0</td>\n",
       "    </tr>\n",
       "    <tr>\n",
       "      <th>2</th>\n",
       "      <td>2</td>\n",
       "      <td>9150.0</td>\n",
       "    </tr>\n",
       "    <tr>\n",
       "      <th>3</th>\n",
       "      <td>3</td>\n",
       "      <td>10400.0</td>\n",
       "    </tr>\n",
       "    <tr>\n",
       "      <th>4</th>\n",
       "      <td>4</td>\n",
       "      <td>8697.0</td>\n",
       "    </tr>\n",
       "  </tbody>\n",
       "</table>\n",
       "</div>"
      ],
      "text/plain": [
       "   Unnamed: 0   target\n",
       "0           0   7400.0\n",
       "1           1   8650.0\n",
       "2           2   9150.0\n",
       "3           3  10400.0\n",
       "4           4   8697.0"
      ]
     },
     "execution_count": 116,
     "metadata": {},
     "output_type": "execute_result"
    }
   ],
   "source": [
    "y_train.head()"
   ]
  },
  {
   "cell_type": "code",
   "execution_count": 117,
   "metadata": {},
   "outputs": [
    {
     "data": {
      "text/html": [
       "<div>\n",
       "<style scoped>\n",
       "    .dataframe tbody tr th:only-of-type {\n",
       "        vertical-align: middle;\n",
       "    }\n",
       "\n",
       "    .dataframe tbody tr th {\n",
       "        vertical-align: top;\n",
       "    }\n",
       "\n",
       "    .dataframe thead th {\n",
       "        text-align: right;\n",
       "    }\n",
       "</style>\n",
       "<table border=\"1\" class=\"dataframe\">\n",
       "  <thead>\n",
       "    <tr style=\"text-align: right;\">\n",
       "      <th></th>\n",
       "      <th>Unnamed: 0</th>\n",
       "      <th>f1</th>\n",
       "      <th>f2</th>\n",
       "      <th>f3</th>\n",
       "      <th>f4</th>\n",
       "      <th>f5</th>\n",
       "      <th>f6</th>\n",
       "      <th>f7</th>\n",
       "      <th>f8</th>\n",
       "      <th>f9</th>\n",
       "      <th>f10</th>\n",
       "      <th>Unnamed: 0</th>\n",
       "      <th>target</th>\n",
       "    </tr>\n",
       "  </thead>\n",
       "  <tbody>\n",
       "    <tr>\n",
       "      <th>0</th>\n",
       "      <td>0</td>\n",
       "      <td>2020-12-31 09:46:17.463002+00:00</td>\n",
       "      <td>x</td>\n",
       "      <td>y</td>\n",
       "      <td>2021-01-10 05:00:00+00:00</td>\n",
       "      <td>2021-01-10 07:00:00+00:00</td>\n",
       "      <td>gamma</td>\n",
       "      <td>True</td>\n",
       "      <td>0.0</td>\n",
       "      <td>0</td>\n",
       "      <td>c-2</td>\n",
       "      <td>0</td>\n",
       "      <td>7400.0</td>\n",
       "    </tr>\n",
       "    <tr>\n",
       "      <th>1</th>\n",
       "      <td>1</td>\n",
       "      <td>2020-12-31 09:46:17.463002+00:00</td>\n",
       "      <td>x</td>\n",
       "      <td>y</td>\n",
       "      <td>2021-01-10 05:00:00+00:00</td>\n",
       "      <td>2021-01-10 07:00:00+00:00</td>\n",
       "      <td>gamma</td>\n",
       "      <td>True</td>\n",
       "      <td>32.0</td>\n",
       "      <td>1</td>\n",
       "      <td>c-2</td>\n",
       "      <td>1</td>\n",
       "      <td>8650.0</td>\n",
       "    </tr>\n",
       "    <tr>\n",
       "      <th>2</th>\n",
       "      <td>2</td>\n",
       "      <td>2020-12-31 09:46:17.463002+00:00</td>\n",
       "      <td>x</td>\n",
       "      <td>y</td>\n",
       "      <td>2021-01-10 11:00:00+00:00</td>\n",
       "      <td>2021-01-10 13:00:00+00:00</td>\n",
       "      <td>gamma</td>\n",
       "      <td>True</td>\n",
       "      <td>32.0</td>\n",
       "      <td>1</td>\n",
       "      <td>c-4</td>\n",
       "      <td>2</td>\n",
       "      <td>9150.0</td>\n",
       "    </tr>\n",
       "    <tr>\n",
       "      <th>3</th>\n",
       "      <td>3</td>\n",
       "      <td>2020-12-31 09:46:17.463002+00:00</td>\n",
       "      <td>x</td>\n",
       "      <td>y</td>\n",
       "      <td>2021-01-10 11:00:00+00:00</td>\n",
       "      <td>2021-01-10 13:00:00+00:00</td>\n",
       "      <td>gamma</td>\n",
       "      <td>True</td>\n",
       "      <td>32.0</td>\n",
       "      <td>2</td>\n",
       "      <td>c-4</td>\n",
       "      <td>3</td>\n",
       "      <td>10400.0</td>\n",
       "    </tr>\n",
       "    <tr>\n",
       "      <th>4</th>\n",
       "      <td>4</td>\n",
       "      <td>2020-12-31 09:46:18.191119+00:00</td>\n",
       "      <td>x</td>\n",
       "      <td>y</td>\n",
       "      <td>2021-01-25 11:00:00+00:00</td>\n",
       "      <td>2021-01-25 12:55:00+00:00</td>\n",
       "      <td>beta</td>\n",
       "      <td>False</td>\n",
       "      <td>20.0</td>\n",
       "      <td>0</td>\n",
       "      <td>b-69</td>\n",
       "      <td>4</td>\n",
       "      <td>8697.0</td>\n",
       "    </tr>\n",
       "  </tbody>\n",
       "</table>\n",
       "</div>"
      ],
      "text/plain": [
       "   Unnamed: 0                                f1 f2 f3  \\\n",
       "0           0  2020-12-31 09:46:17.463002+00:00  x  y   \n",
       "1           1  2020-12-31 09:46:17.463002+00:00  x  y   \n",
       "2           2  2020-12-31 09:46:17.463002+00:00  x  y   \n",
       "3           3  2020-12-31 09:46:17.463002+00:00  x  y   \n",
       "4           4  2020-12-31 09:46:18.191119+00:00  x  y   \n",
       "\n",
       "                          f4                         f5     f6     f7    f8  \\\n",
       "0  2021-01-10 05:00:00+00:00  2021-01-10 07:00:00+00:00  gamma   True   0.0   \n",
       "1  2021-01-10 05:00:00+00:00  2021-01-10 07:00:00+00:00  gamma   True  32.0   \n",
       "2  2021-01-10 11:00:00+00:00  2021-01-10 13:00:00+00:00  gamma   True  32.0   \n",
       "3  2021-01-10 11:00:00+00:00  2021-01-10 13:00:00+00:00  gamma   True  32.0   \n",
       "4  2021-01-25 11:00:00+00:00  2021-01-25 12:55:00+00:00   beta  False  20.0   \n",
       "\n",
       "   f9   f10  Unnamed: 0   target  \n",
       "0   0   c-2           0   7400.0  \n",
       "1   1   c-2           1   8650.0  \n",
       "2   1   c-4           2   9150.0  \n",
       "3   2   c-4           3  10400.0  \n",
       "4   0  b-69           4   8697.0  "
      ]
     },
     "execution_count": 117,
     "metadata": {},
     "output_type": "execute_result"
    }
   ],
   "source": [
    "# I will take sample out of data\n",
    "\n",
    "# Merge two datasets to make one dataset\n",
    "\n",
    "df1 = pd.concat([X_train,y_train],axis=1) # Horizontal stack\n",
    "df1.head()"
   ]
  },
  {
   "cell_type": "code",
   "execution_count": 118,
   "metadata": {},
   "outputs": [],
   "source": [
    "# Select 5000 rows from given datasets (X_train,Y_train)\n",
    "df = df1.sample(5000)"
   ]
  },
  {
   "cell_type": "code",
   "execution_count": 119,
   "metadata": {},
   "outputs": [],
   "source": [
    "# Save a csv file for train datasets\n",
    "df.to_csv(\"resources/sastaticket_train.csv\")"
   ]
  },
  {
   "cell_type": "code",
   "execution_count": 120,
   "metadata": {},
   "outputs": [],
   "source": [
    "# Select 250 rows from given datasets (X_test)\n",
    "df_test = X_test.sample(250)"
   ]
  },
  {
   "cell_type": "code",
   "execution_count": 121,
   "metadata": {},
   "outputs": [],
   "source": [
    "# Save a csv file for test datasets\n",
    "df_test.to_csv(\"resources/sastaticket_test.csv\")"
   ]
  },
  {
   "cell_type": "code",
   "execution_count": 122,
   "metadata": {},
   "outputs": [
    {
     "data": {
      "text/plain": [
       "<bound method NDFrame.sample of                                        f1 f2 f3                         f4  \\\n",
       "144979   2021-09-02 09:33:31.278339+00:00  x  y  2021-09-08 10:00:00+00:00   \n",
       "334377   2021-09-03 15:43:50.702101+00:00  x  y  2021-09-04 10:00:00+00:00   \n",
       "3536619  2021-09-22 00:30:56.545570+00:00  x  y  2021-09-28 10:50:00+00:00   \n",
       "2021276  2021-09-12 17:12:58.846484+00:00  x  y  2021-09-13 13:00:00+00:00   \n",
       "556838   2021-09-04 19:48:32.441423+00:00  x  y  2021-09-05 17:00:00+00:00   \n",
       "...                                   ... .. ..                        ...   \n",
       "1672765  2021-09-10 17:38:18.662450+00:00  x  y  2021-11-14 11:00:00+00:00   \n",
       "230381   2021-09-02 21:00:16.468869+00:00  x  y  2021-09-05 14:00:00+00:00   \n",
       "1579080  2021-09-10 07:54:48.249683+00:00  x  y  2021-09-23 11:00:00+00:00   \n",
       "4506960  2021-09-29 17:09:57.950084+00:00  x  y  2021-11-12 13:00:00+00:00   \n",
       "4071335  2021-09-26 05:31:50.752243+00:00  x  y  2021-10-22 13:00:00+00:00   \n",
       "\n",
       "                                f5     f6    f7    f8  f9  f10  \n",
       "144979   2021-09-08 12:00:00+00:00  alpha  True  20.0   1  a-7  \n",
       "334377   2021-09-04 12:00:00+00:00  alpha  True  20.0   1  a-7  \n",
       "3536619  2021-09-28 12:50:00+00:00  omega  True  20.0   1  d-3  \n",
       "2021276  2021-09-13 15:00:00+00:00  alpha  True  15.0   1  a-9  \n",
       "556838   2021-09-05 18:59:00+00:00  gamma  True  20.0   1  c-6  \n",
       "...                            ...    ...   ...   ...  ..  ...  \n",
       "1672765  2021-11-14 13:00:00+00:00  gamma  True  20.0   2  c-4  \n",
       "230381   2021-09-05 15:55:00+00:00   beta  True  40.0   0  b-9  \n",
       "1579080  2021-09-23 13:00:00+00:00  gamma  True  20.0   2  c-4  \n",
       "4506960  2021-11-12 15:00:00+00:00  alpha  True  20.0   1  a-9  \n",
       "4071335  2021-10-22 15:00:00+00:00  alpha  True  20.0   1  a-9  \n",
       "\n",
       "[250 rows x 10 columns]>"
      ]
     },
     "execution_count": 122,
     "metadata": {},
     "output_type": "execute_result"
    }
   ],
   "source": [
    "df_test.sample"
   ]
  },
  {
   "cell_type": "code",
   "execution_count": 123,
   "metadata": {},
   "outputs": [
    {
     "name": "stdout",
     "output_type": "stream",
     "text": [
      "<class 'pandas.core.frame.DataFrame'>\n",
      "Int64Index: 5000 entries, 16926576 to 20398173\n",
      "Data columns (total 13 columns):\n",
      " #   Column      Non-Null Count  Dtype  \n",
      "---  ------      --------------  -----  \n",
      " 0   Unnamed: 0  5000 non-null   int64  \n",
      " 1   f1          5000 non-null   object \n",
      " 2   f2          5000 non-null   object \n",
      " 3   f3          5000 non-null   object \n",
      " 4   f4          5000 non-null   object \n",
      " 5   f5          5000 non-null   object \n",
      " 6   f6          5000 non-null   object \n",
      " 7   f7          5000 non-null   bool   \n",
      " 8   f8          5000 non-null   float64\n",
      " 9   f9          5000 non-null   int64  \n",
      " 10  f10         5000 non-null   object \n",
      " 11  Unnamed: 0  5000 non-null   int64  \n",
      " 12  target      5000 non-null   float64\n",
      "dtypes: bool(1), float64(2), int64(3), object(7)\n",
      "memory usage: 512.7+ KB\n"
     ]
    }
   ],
   "source": [
    "# Check structure of data\n",
    "df.info()"
   ]
  },
  {
   "cell_type": "code",
   "execution_count": 124,
   "metadata": {},
   "outputs": [
    {
     "data": {
      "text/plain": [
       "Unnamed: 0    0\n",
       "f1            0\n",
       "f2            0\n",
       "f3            0\n",
       "f4            0\n",
       "f5            0\n",
       "f6            0\n",
       "f7            0\n",
       "f8            0\n",
       "f9            0\n",
       "f10           0\n",
       "Unnamed: 0    0\n",
       "target        0\n",
       "dtype: int64"
      ]
     },
     "execution_count": 124,
     "metadata": {},
     "output_type": "execute_result"
    }
   ],
   "source": [
    "# Check null values\n",
    "df.isnull().sum()"
   ]
  },
  {
   "cell_type": "code",
   "execution_count": 125,
   "metadata": {},
   "outputs": [
    {
     "data": {
      "text/html": [
       "<div>\n",
       "<style scoped>\n",
       "    .dataframe tbody tr th:only-of-type {\n",
       "        vertical-align: middle;\n",
       "    }\n",
       "\n",
       "    .dataframe tbody tr th {\n",
       "        vertical-align: top;\n",
       "    }\n",
       "\n",
       "    .dataframe thead th {\n",
       "        text-align: right;\n",
       "    }\n",
       "</style>\n",
       "<table border=\"1\" class=\"dataframe\">\n",
       "  <thead>\n",
       "    <tr style=\"text-align: right;\">\n",
       "      <th></th>\n",
       "      <th>Unnamed: 0</th>\n",
       "      <th>f8</th>\n",
       "      <th>f9</th>\n",
       "      <th>Unnamed: 0</th>\n",
       "      <th>target</th>\n",
       "    </tr>\n",
       "  </thead>\n",
       "  <tbody>\n",
       "    <tr>\n",
       "      <th>count</th>\n",
       "      <td>5.000000e+03</td>\n",
       "      <td>5000.000000</td>\n",
       "      <td>5000.000000</td>\n",
       "      <td>5.000000e+03</td>\n",
       "      <td>5000.000000</td>\n",
       "    </tr>\n",
       "    <tr>\n",
       "      <th>mean</th>\n",
       "      <td>1.083486e+07</td>\n",
       "      <td>22.618800</td>\n",
       "      <td>0.940400</td>\n",
       "      <td>1.083486e+07</td>\n",
       "      <td>10052.192600</td>\n",
       "    </tr>\n",
       "    <tr>\n",
       "      <th>std</th>\n",
       "      <td>6.267532e+06</td>\n",
       "      <td>8.787089</td>\n",
       "      <td>0.594742</td>\n",
       "      <td>6.267532e+06</td>\n",
       "      <td>3299.857932</td>\n",
       "    </tr>\n",
       "    <tr>\n",
       "      <th>min</th>\n",
       "      <td>8.123000e+03</td>\n",
       "      <td>0.000000</td>\n",
       "      <td>0.000000</td>\n",
       "      <td>8.123000e+03</td>\n",
       "      <td>4990.000000</td>\n",
       "    </tr>\n",
       "    <tr>\n",
       "      <th>25%</th>\n",
       "      <td>5.415176e+06</td>\n",
       "      <td>20.000000</td>\n",
       "      <td>1.000000</td>\n",
       "      <td>5.415176e+06</td>\n",
       "      <td>7765.000000</td>\n",
       "    </tr>\n",
       "    <tr>\n",
       "      <th>50%</th>\n",
       "      <td>1.092792e+07</td>\n",
       "      <td>20.000000</td>\n",
       "      <td>1.000000</td>\n",
       "      <td>1.092792e+07</td>\n",
       "      <td>9280.000000</td>\n",
       "    </tr>\n",
       "    <tr>\n",
       "      <th>75%</th>\n",
       "      <td>1.622482e+07</td>\n",
       "      <td>32.000000</td>\n",
       "      <td>1.000000</td>\n",
       "      <td>1.622482e+07</td>\n",
       "      <td>11245.000000</td>\n",
       "    </tr>\n",
       "    <tr>\n",
       "      <th>max</th>\n",
       "      <td>2.177410e+07</td>\n",
       "      <td>45.000000</td>\n",
       "      <td>2.000000</td>\n",
       "      <td>2.177410e+07</td>\n",
       "      <td>33720.000000</td>\n",
       "    </tr>\n",
       "  </tbody>\n",
       "</table>\n",
       "</div>"
      ],
      "text/plain": [
       "         Unnamed: 0           f8           f9    Unnamed: 0        target\n",
       "count  5.000000e+03  5000.000000  5000.000000  5.000000e+03   5000.000000\n",
       "mean   1.083486e+07    22.618800     0.940400  1.083486e+07  10052.192600\n",
       "std    6.267532e+06     8.787089     0.594742  6.267532e+06   3299.857932\n",
       "min    8.123000e+03     0.000000     0.000000  8.123000e+03   4990.000000\n",
       "25%    5.415176e+06    20.000000     1.000000  5.415176e+06   7765.000000\n",
       "50%    1.092792e+07    20.000000     1.000000  1.092792e+07   9280.000000\n",
       "75%    1.622482e+07    32.000000     1.000000  1.622482e+07  11245.000000\n",
       "max    2.177410e+07    45.000000     2.000000  2.177410e+07  33720.000000"
      ]
     },
     "execution_count": 125,
     "metadata": {},
     "output_type": "execute_result"
    }
   ],
   "source": [
    "# Check summary statistics\n",
    "df.describe()"
   ]
  },
  {
   "cell_type": "code",
   "execution_count": 126,
   "metadata": {},
   "outputs": [
    {
     "name": "stdout",
     "output_type": "stream",
     "text": [
      "Index(['Unnamed: 0', 'f1', 'f2', 'f3', 'f4', 'f5', 'f6', 'f7', 'f8', 'f9',\n",
      "       'f10', 'Unnamed: 0', 'target'],\n",
      "      dtype='object')\n"
     ]
    }
   ],
   "source": [
    "print(df.columns)"
   ]
  },
  {
   "cell_type": "markdown",
   "metadata": {},
   "source": [
    "# Feature Engineering\n",
    "\n",
    "- f1: Ticket Purchase Date Time\n",
    "- f2: Origin\n",
    "- f3: Destination\n",
    "- f4: Departure Date Time\n",
    "- f5: Arrival Date Time\n",
    "- f6: Airline\n",
    "- f7: Refundable Ticket\n",
    "- f8: Baggage Weight\n",
    "- f9: Baggage Pieces\n",
    "- f10: Flight Number\n"
   ]
  },
  {
   "cell_type": "code",
   "execution_count": 127,
   "metadata": {},
   "outputs": [
    {
     "name": "stdout",
     "output_type": "stream",
     "text": [
      "f2 ['x']\n",
      "f3 ['y']\n",
      "f6 ['gamma' 'beta' 'alpha' 'omega']\n",
      "f8 [20. 15.  0. 35. 40. 32. 45.]\n",
      "f9 [1 2 0]\n",
      "f10 ['c-6' 'c-4' 'b-19' 'a-1' 'c-2' 'a-23' 'b-1' 'b-69' 'd-3' 'a-7' 'b-67'\n",
      " 'b-73' 'a-5' 'a-9' 'b-9' 'd-1' 'd-5' 'b-369' 'b-319']\n"
     ]
    }
   ],
   "source": [
    "# Finding unique values in categorical lists\n",
    "cat_list = [\"f2\",\"f3\",\"f6\",\"f8\",\"f9\",\"f10\"]\n",
    "\n",
    "# Unique value in each column\n",
    "for i in cat_list:\n",
    "    print(i,df[i].unique())"
   ]
  },
  {
   "cell_type": "markdown",
   "metadata": {},
   "source": [
    "### I am removing f2,f3 and f10 and unnamed column because we have to focus more on dates and fare."
   ]
  },
  {
   "cell_type": "code",
   "execution_count": 128,
   "metadata": {},
   "outputs": [],
   "source": [
    "df.drop([\"Unnamed: 0\",\"f2\",\"f3\",\"f10\"],axis=1,inplace=True)"
   ]
  },
  {
   "cell_type": "code",
   "execution_count": 129,
   "metadata": {},
   "outputs": [],
   "source": [
    "# Rename the columns\n",
    "df = df.rename(columns = {'f1': 'Ticket Purchase Date', 'f4': 'Departure Date', 'f5': 'Arrival Date', 'f6': 'Company name',\n",
    "                          'f7': 'Refundable ticket', 'f8': 'Baggage weight', 'f9': 'Baggae Quantity'}, inplace = False)"
   ]
  },
  {
   "cell_type": "code",
   "execution_count": 130,
   "metadata": {},
   "outputs": [
    {
     "data": {
      "text/html": [
       "<div>\n",
       "<style scoped>\n",
       "    .dataframe tbody tr th:only-of-type {\n",
       "        vertical-align: middle;\n",
       "    }\n",
       "\n",
       "    .dataframe tbody tr th {\n",
       "        vertical-align: top;\n",
       "    }\n",
       "\n",
       "    .dataframe thead th {\n",
       "        text-align: right;\n",
       "    }\n",
       "</style>\n",
       "<table border=\"1\" class=\"dataframe\">\n",
       "  <thead>\n",
       "    <tr style=\"text-align: right;\">\n",
       "      <th></th>\n",
       "      <th>Ticket Purchase Date</th>\n",
       "      <th>Departure Date</th>\n",
       "      <th>Arrival Date</th>\n",
       "      <th>Company name</th>\n",
       "      <th>Refundable ticket</th>\n",
       "      <th>Baggage weight</th>\n",
       "      <th>Baggae Quantity</th>\n",
       "      <th>target</th>\n",
       "    </tr>\n",
       "  </thead>\n",
       "  <tbody>\n",
       "    <tr>\n",
       "      <th>16926576</th>\n",
       "      <td>2021-08-02 21:59:33.226549+00:00</td>\n",
       "      <td>2021-08-08 17:00:00+00:00</td>\n",
       "      <td>2021-08-08 18:59:00+00:00</td>\n",
       "      <td>gamma</td>\n",
       "      <td>True</td>\n",
       "      <td>20.0</td>\n",
       "      <td>1</td>\n",
       "      <td>11045.0</td>\n",
       "    </tr>\n",
       "    <tr>\n",
       "      <th>4413240</th>\n",
       "      <td>2021-04-08 17:48:47.144065+00:00</td>\n",
       "      <td>2021-04-10 11:00:00+00:00</td>\n",
       "      <td>2021-04-10 13:00:00+00:00</td>\n",
       "      <td>gamma</td>\n",
       "      <td>True</td>\n",
       "      <td>20.0</td>\n",
       "      <td>2</td>\n",
       "      <td>9650.0</td>\n",
       "    </tr>\n",
       "    <tr>\n",
       "      <th>492676</th>\n",
       "      <td>2021-01-14 21:18:11.387249+00:00</td>\n",
       "      <td>2021-02-05 16:00:00+00:00</td>\n",
       "      <td>2021-02-05 17:55:00+00:00</td>\n",
       "      <td>beta</td>\n",
       "      <td>False</td>\n",
       "      <td>20.0</td>\n",
       "      <td>0</td>\n",
       "      <td>8697.0</td>\n",
       "    </tr>\n",
       "    <tr>\n",
       "      <th>2342299</th>\n",
       "      <td>2021-02-28 17:10:09.331174+00:00</td>\n",
       "      <td>2021-03-05 05:15:00+00:00</td>\n",
       "      <td>2021-03-05 07:25:00+00:00</td>\n",
       "      <td>alpha</td>\n",
       "      <td>True</td>\n",
       "      <td>15.0</td>\n",
       "      <td>1</td>\n",
       "      <td>7502.0</td>\n",
       "    </tr>\n",
       "    <tr>\n",
       "      <th>8625891</th>\n",
       "      <td>2021-06-03 17:37:26.239547+00:00</td>\n",
       "      <td>2021-06-30 05:00:00+00:00</td>\n",
       "      <td>2021-06-30 07:00:00+00:00</td>\n",
       "      <td>gamma</td>\n",
       "      <td>True</td>\n",
       "      <td>20.0</td>\n",
       "      <td>2</td>\n",
       "      <td>11900.0</td>\n",
       "    </tr>\n",
       "  </tbody>\n",
       "</table>\n",
       "</div>"
      ],
      "text/plain": [
       "                      Ticket Purchase Date             Departure Date  \\\n",
       "16926576  2021-08-02 21:59:33.226549+00:00  2021-08-08 17:00:00+00:00   \n",
       "4413240   2021-04-08 17:48:47.144065+00:00  2021-04-10 11:00:00+00:00   \n",
       "492676    2021-01-14 21:18:11.387249+00:00  2021-02-05 16:00:00+00:00   \n",
       "2342299   2021-02-28 17:10:09.331174+00:00  2021-03-05 05:15:00+00:00   \n",
       "8625891   2021-06-03 17:37:26.239547+00:00  2021-06-30 05:00:00+00:00   \n",
       "\n",
       "                       Arrival Date Company name  Refundable ticket  \\\n",
       "16926576  2021-08-08 18:59:00+00:00        gamma               True   \n",
       "4413240   2021-04-10 13:00:00+00:00        gamma               True   \n",
       "492676    2021-02-05 17:55:00+00:00         beta              False   \n",
       "2342299   2021-03-05 07:25:00+00:00        alpha               True   \n",
       "8625891   2021-06-30 07:00:00+00:00        gamma               True   \n",
       "\n",
       "          Baggage weight  Baggae Quantity   target  \n",
       "16926576            20.0                1  11045.0  \n",
       "4413240             20.0                2   9650.0  \n",
       "492676              20.0                0   8697.0  \n",
       "2342299             15.0                1   7502.0  \n",
       "8625891             20.0                2  11900.0  "
      ]
     },
     "execution_count": 130,
     "metadata": {},
     "output_type": "execute_result"
    }
   ],
   "source": [
    "df.head()"
   ]
  },
  {
   "cell_type": "code",
   "execution_count": 131,
   "metadata": {},
   "outputs": [
    {
     "name": "stdout",
     "output_type": "stream",
     "text": [
      "<class 'pandas.core.frame.DataFrame'>\n",
      "Int64Index: 5000 entries, 16926576 to 20398173\n",
      "Data columns (total 8 columns):\n",
      " #   Column                Non-Null Count  Dtype  \n",
      "---  ------                --------------  -----  \n",
      " 0   Ticket Purchase Date  5000 non-null   object \n",
      " 1   Departure Date        5000 non-null   object \n",
      " 2   Arrival Date          5000 non-null   object \n",
      " 3   Company name          5000 non-null   object \n",
      " 4   Refundable ticket     5000 non-null   bool   \n",
      " 5   Baggage weight        5000 non-null   float64\n",
      " 6   Baggae Quantity       5000 non-null   int64  \n",
      " 7   target                5000 non-null   float64\n",
      "dtypes: bool(1), float64(2), int64(1), object(4)\n",
      "memory usage: 317.4+ KB\n"
     ]
    }
   ],
   "source": [
    "df.info()"
   ]
  },
  {
   "cell_type": "code",
   "execution_count": 132,
   "metadata": {},
   "outputs": [],
   "source": [
    "# Convert them into date and time objects\n",
    "from datetime import date,datetime\n",
    "\n",
    "df[\"Ticket Purchase Date\"] = pd.to_datetime(df[\"Ticket Purchase Date\"])\n",
    "df[\"Departure Date\"] = pd.to_datetime(df[\"Departure Date\"])\n",
    "df[\"Arrival Date\"] = pd.to_datetime(df[\"Arrival Date\"])"
   ]
  },
  {
   "cell_type": "code",
   "execution_count": 133,
   "metadata": {},
   "outputs": [
    {
     "name": "stdout",
     "output_type": "stream",
     "text": [
      "<class 'pandas.core.frame.DataFrame'>\n",
      "Int64Index: 5000 entries, 16926576 to 20398173\n",
      "Data columns (total 8 columns):\n",
      " #   Column                Non-Null Count  Dtype              \n",
      "---  ------                --------------  -----              \n",
      " 0   Ticket Purchase Date  5000 non-null   datetime64[ns, UTC]\n",
      " 1   Departure Date        5000 non-null   datetime64[ns, UTC]\n",
      " 2   Arrival Date          5000 non-null   datetime64[ns, UTC]\n",
      " 3   Company name          5000 non-null   object             \n",
      " 4   Refundable ticket     5000 non-null   bool               \n",
      " 5   Baggage weight        5000 non-null   float64            \n",
      " 6   Baggae Quantity       5000 non-null   int64              \n",
      " 7   target                5000 non-null   float64            \n",
      "dtypes: bool(1), datetime64[ns, UTC](3), float64(2), int64(1), object(1)\n",
      "memory usage: 317.4+ KB\n"
     ]
    }
   ],
   "source": [
    "df.info()"
   ]
  },
  {
   "cell_type": "code",
   "execution_count": 134,
   "metadata": {},
   "outputs": [],
   "source": [
    "df.insert(0, \"booking_and_departure_time _difference\",((df[\"Departure Date\"]-df[\"Ticket Purchase Date\"]).astype(\"timedelta64[s]\")),True)\n",
    "df.insert(1, \"flight_duration_in_air\",((df[\"Arrival Date\"]-df[\"Departure Date\"]).astype(\"timedelta64[s]\")),True)"
   ]
  },
  {
   "cell_type": "code",
   "execution_count": 135,
   "metadata": {},
   "outputs": [
    {
     "data": {
      "text/html": [
       "<div>\n",
       "<style scoped>\n",
       "    .dataframe tbody tr th:only-of-type {\n",
       "        vertical-align: middle;\n",
       "    }\n",
       "\n",
       "    .dataframe tbody tr th {\n",
       "        vertical-align: top;\n",
       "    }\n",
       "\n",
       "    .dataframe thead th {\n",
       "        text-align: right;\n",
       "    }\n",
       "</style>\n",
       "<table border=\"1\" class=\"dataframe\">\n",
       "  <thead>\n",
       "    <tr style=\"text-align: right;\">\n",
       "      <th></th>\n",
       "      <th>booking_and_departure_time _difference</th>\n",
       "      <th>flight_duration_in_air</th>\n",
       "      <th>Ticket Purchase Date</th>\n",
       "      <th>Departure Date</th>\n",
       "      <th>Arrival Date</th>\n",
       "      <th>Company name</th>\n",
       "      <th>Refundable ticket</th>\n",
       "      <th>Baggage weight</th>\n",
       "      <th>Baggae Quantity</th>\n",
       "      <th>target</th>\n",
       "    </tr>\n",
       "  </thead>\n",
       "  <tbody>\n",
       "    <tr>\n",
       "      <th>16926576</th>\n",
       "      <td>500426.0</td>\n",
       "      <td>7140.0</td>\n",
       "      <td>2021-08-02 21:59:33.226549+00:00</td>\n",
       "      <td>2021-08-08 17:00:00+00:00</td>\n",
       "      <td>2021-08-08 18:59:00+00:00</td>\n",
       "      <td>gamma</td>\n",
       "      <td>True</td>\n",
       "      <td>20.0</td>\n",
       "      <td>1</td>\n",
       "      <td>11045.0</td>\n",
       "    </tr>\n",
       "    <tr>\n",
       "      <th>4413240</th>\n",
       "      <td>148272.0</td>\n",
       "      <td>7200.0</td>\n",
       "      <td>2021-04-08 17:48:47.144065+00:00</td>\n",
       "      <td>2021-04-10 11:00:00+00:00</td>\n",
       "      <td>2021-04-10 13:00:00+00:00</td>\n",
       "      <td>gamma</td>\n",
       "      <td>True</td>\n",
       "      <td>20.0</td>\n",
       "      <td>2</td>\n",
       "      <td>9650.0</td>\n",
       "    </tr>\n",
       "    <tr>\n",
       "      <th>492676</th>\n",
       "      <td>1881708.0</td>\n",
       "      <td>6900.0</td>\n",
       "      <td>2021-01-14 21:18:11.387249+00:00</td>\n",
       "      <td>2021-02-05 16:00:00+00:00</td>\n",
       "      <td>2021-02-05 17:55:00+00:00</td>\n",
       "      <td>beta</td>\n",
       "      <td>False</td>\n",
       "      <td>20.0</td>\n",
       "      <td>0</td>\n",
       "      <td>8697.0</td>\n",
       "    </tr>\n",
       "    <tr>\n",
       "      <th>2342299</th>\n",
       "      <td>389090.0</td>\n",
       "      <td>7800.0</td>\n",
       "      <td>2021-02-28 17:10:09.331174+00:00</td>\n",
       "      <td>2021-03-05 05:15:00+00:00</td>\n",
       "      <td>2021-03-05 07:25:00+00:00</td>\n",
       "      <td>alpha</td>\n",
       "      <td>True</td>\n",
       "      <td>15.0</td>\n",
       "      <td>1</td>\n",
       "      <td>7502.0</td>\n",
       "    </tr>\n",
       "    <tr>\n",
       "      <th>8625891</th>\n",
       "      <td>2287353.0</td>\n",
       "      <td>7200.0</td>\n",
       "      <td>2021-06-03 17:37:26.239547+00:00</td>\n",
       "      <td>2021-06-30 05:00:00+00:00</td>\n",
       "      <td>2021-06-30 07:00:00+00:00</td>\n",
       "      <td>gamma</td>\n",
       "      <td>True</td>\n",
       "      <td>20.0</td>\n",
       "      <td>2</td>\n",
       "      <td>11900.0</td>\n",
       "    </tr>\n",
       "  </tbody>\n",
       "</table>\n",
       "</div>"
      ],
      "text/plain": [
       "          booking_and_departure_time _difference  flight_duration_in_air  \\\n",
       "16926576                                500426.0                  7140.0   \n",
       "4413240                                 148272.0                  7200.0   \n",
       "492676                                 1881708.0                  6900.0   \n",
       "2342299                                 389090.0                  7800.0   \n",
       "8625891                                2287353.0                  7200.0   \n",
       "\n",
       "                     Ticket Purchase Date            Departure Date  \\\n",
       "16926576 2021-08-02 21:59:33.226549+00:00 2021-08-08 17:00:00+00:00   \n",
       "4413240  2021-04-08 17:48:47.144065+00:00 2021-04-10 11:00:00+00:00   \n",
       "492676   2021-01-14 21:18:11.387249+00:00 2021-02-05 16:00:00+00:00   \n",
       "2342299  2021-02-28 17:10:09.331174+00:00 2021-03-05 05:15:00+00:00   \n",
       "8625891  2021-06-03 17:37:26.239547+00:00 2021-06-30 05:00:00+00:00   \n",
       "\n",
       "                      Arrival Date Company name  Refundable ticket  \\\n",
       "16926576 2021-08-08 18:59:00+00:00        gamma               True   \n",
       "4413240  2021-04-10 13:00:00+00:00        gamma               True   \n",
       "492676   2021-02-05 17:55:00+00:00         beta              False   \n",
       "2342299  2021-03-05 07:25:00+00:00        alpha               True   \n",
       "8625891  2021-06-30 07:00:00+00:00        gamma               True   \n",
       "\n",
       "          Baggage weight  Baggae Quantity   target  \n",
       "16926576            20.0                1  11045.0  \n",
       "4413240             20.0                2   9650.0  \n",
       "492676              20.0                0   8697.0  \n",
       "2342299             15.0                1   7502.0  \n",
       "8625891             20.0                2  11900.0  "
      ]
     },
     "execution_count": 135,
     "metadata": {},
     "output_type": "execute_result"
    }
   ],
   "source": [
    "df.head()"
   ]
  },
  {
   "cell_type": "code",
   "execution_count": 136,
   "metadata": {},
   "outputs": [
    {
     "data": {
      "text/plain": [
       "booking_and_departure_time _difference    0\n",
       "flight_duration_in_air                    0\n",
       "Ticket Purchase Date                      0\n",
       "Departure Date                            0\n",
       "Arrival Date                              0\n",
       "Company name                              0\n",
       "Refundable ticket                         0\n",
       "Baggage weight                            0\n",
       "Baggae Quantity                           0\n",
       "target                                    0\n",
       "dtype: int64"
      ]
     },
     "execution_count": 136,
     "metadata": {},
     "output_type": "execute_result"
    }
   ],
   "source": [
    "df.isnull().sum()"
   ]
  },
  {
   "cell_type": "code",
   "execution_count": 137,
   "metadata": {},
   "outputs": [],
   "source": [
    "cat_cols = [\"Company name\",\"Refundable ticket\",\"Baggage weight\",\"Baggae Quantity\"]\n",
    "num_cols = [\"booking_and_departure_time _difference\",\"flight_duration_in_air\"]"
   ]
  },
  {
   "cell_type": "code",
   "execution_count": 138,
   "metadata": {},
   "outputs": [
    {
     "name": "stderr",
     "output_type": "stream",
     "text": [
      "C:\\Users\\AsJad\\AppData\\Local\\Packages\\PythonSoftwareFoundation.Python.3.10_qbz5n2kfra8p0\\LocalCache\\local-packages\\Python310\\site-packages\\seaborn\\_decorators.py:36: FutureWarning: Pass the following variable as a keyword arg: x. From version 0.12, the only valid positional argument will be `data`, and passing other arguments without an explicit keyword will result in an error or misinterpretation.\n",
      "  warnings.warn(\n",
      "C:\\Users\\AsJad\\AppData\\Local\\Packages\\PythonSoftwareFoundation.Python.3.10_qbz5n2kfra8p0\\LocalCache\\local-packages\\Python310\\site-packages\\seaborn\\_decorators.py:36: FutureWarning: Pass the following variable as a keyword arg: x. From version 0.12, the only valid positional argument will be `data`, and passing other arguments without an explicit keyword will result in an error or misinterpretation.\n",
      "  warnings.warn(\n",
      "C:\\Users\\AsJad\\AppData\\Local\\Packages\\PythonSoftwareFoundation.Python.3.10_qbz5n2kfra8p0\\LocalCache\\local-packages\\Python310\\site-packages\\seaborn\\_decorators.py:36: FutureWarning: Pass the following variable as a keyword arg: x. From version 0.12, the only valid positional argument will be `data`, and passing other arguments without an explicit keyword will result in an error or misinterpretation.\n",
      "  warnings.warn(\n",
      "C:\\Users\\AsJad\\AppData\\Local\\Packages\\PythonSoftwareFoundation.Python.3.10_qbz5n2kfra8p0\\LocalCache\\local-packages\\Python310\\site-packages\\seaborn\\_decorators.py:36: FutureWarning: Pass the following variable as a keyword arg: x. From version 0.12, the only valid positional argument will be `data`, and passing other arguments without an explicit keyword will result in an error or misinterpretation.\n",
      "  warnings.warn(\n"
     ]
    },
    {
     "data": {
      "image/png": "[encoded data removed]",
      "text/plain": [
       "<Figure size 1440x1440 with 4 Axes>"
      ]
     },
     "metadata": {
      "needs_background": "light"
     },
     "output_type": "display_data"
    }
   ],
   "source": [
    "# Plotting categorical data\n",
    "\n",
    "c=1\n",
    "plt.figure(figsize=(20,20))\n",
    "for i in cat_cols:\n",
    "    plt.subplot(3,3,c)\n",
    "    sns.countplot(df[i])\n",
    "    plt.xticks(rotation=90)\n",
    "    c=c+1\n",
    "plt.show()"
   ]
  },
  {
   "cell_type": "code",
   "execution_count": 139,
   "metadata": {},
   "outputs": [
    {
     "name": "stderr",
     "output_type": "stream",
     "text": [
      "C:\\Users\\AsJad\\AppData\\Local\\Packages\\PythonSoftwareFoundation.Python.3.10_qbz5n2kfra8p0\\LocalCache\\local-packages\\Python310\\site-packages\\seaborn\\distributions.py:2619: FutureWarning: `distplot` is a deprecated function and will be removed in a future version. Please adapt your code to use either `displot` (a figure-level function with similar flexibility) or `histplot` (an axes-level function for histograms).\n",
      "  warnings.warn(msg, FutureWarning)\n",
      "C:\\Users\\AsJad\\AppData\\Local\\Packages\\PythonSoftwareFoundation.Python.3.10_qbz5n2kfra8p0\\LocalCache\\local-packages\\Python310\\site-packages\\seaborn\\distributions.py:2619: FutureWarning: `distplot` is a deprecated function and will be removed in a future version. Please adapt your code to use either `displot` (a figure-level function with similar flexibility) or `histplot` (an axes-level function for histograms).\n",
      "  warnings.warn(msg, FutureWarning)\n"
     ]
    },
    {
     "data": {
      "image/png": "[encoded data removed]",
      "text/plain": [
       "<Figure size 2160x720 with 2 Axes>"
      ]
     },
     "metadata": {
      "needs_background": "light"
     },
     "output_type": "display_data"
    }
   ],
   "source": [
    "# Plotting categorical data\n",
    "\n",
    "c=1\n",
    "plt.figure(figsize=(30,10))\n",
    "for i in num_cols:\n",
    "    plt.subplot(2,4,c)\n",
    "    sns.distplot(df[i])\n",
    "    c=c+1\n",
    "plt.show()"
   ]
  },
  {
   "cell_type": "code",
   "execution_count": 140,
   "metadata": {},
   "outputs": [
    {
     "name": "stderr",
     "output_type": "stream",
     "text": [
      "C:\\Users\\AsJad\\AppData\\Local\\Packages\\PythonSoftwareFoundation.Python.3.10_qbz5n2kfra8p0\\LocalCache\\local-packages\\Python310\\site-packages\\seaborn\\_decorators.py:36: FutureWarning: Pass the following variable as a keyword arg: x. From version 0.12, the only valid positional argument will be `data`, and passing other arguments without an explicit keyword will result in an error or misinterpretation.\n",
      "  warnings.warn(\n",
      "C:\\Users\\AsJad\\AppData\\Local\\Packages\\PythonSoftwareFoundation.Python.3.10_qbz5n2kfra8p0\\LocalCache\\local-packages\\Python310\\site-packages\\seaborn\\_decorators.py:36: FutureWarning: Pass the following variable as a keyword arg: x. From version 0.12, the only valid positional argument will be `data`, and passing other arguments without an explicit keyword will result in an error or misinterpretation.\n",
      "  warnings.warn(\n"
     ]
    },
    {
     "data": {
      "image/png": "[encoded data removed]",
      "text/plain": [
       "<Figure size 2160x720 with 2 Axes>"
      ]
     },
     "metadata": {
      "needs_background": "light"
     },
     "output_type": "display_data"
    }
   ],
   "source": [
    "# Plotting categorical data\n",
    "\n",
    "c=1\n",
    "plt.figure(figsize=(30,10))\n",
    "for i in num_cols:\n",
    "    plt.subplot(2,4,c)\n",
    "    sns.boxplot(df[i])\n",
    "    c=c+1\n",
    "plt.show()"
   ]
  },
  {
   "cell_type": "code",
   "execution_count": 141,
   "metadata": {},
   "outputs": [
    {
     "data": {
      "text/plain": [
       "<seaborn.axisgrid.FacetGrid at 0x2365d66f640>"
      ]
     },
     "execution_count": 141,
     "metadata": {},
     "output_type": "execute_result"
    },
    {
     "data": {
      "image/png": "[encoded data removed]",
      "text/plain": [
       "<Figure size 360x360 with 1 Axes>"
      ]
     },
     "metadata": {
      "needs_background": "light"
     },
     "output_type": "display_data"
    }
   ],
   "source": [
    "# Target\n",
    "\n",
    "sns.displot(df[\"target\"])"
   ]
  },
  {
   "cell_type": "code",
   "execution_count": 142,
   "metadata": {},
   "outputs": [
    {
     "name": "stderr",
     "output_type": "stream",
     "text": [
      "C:\\Users\\AsJad\\AppData\\Local\\Packages\\PythonSoftwareFoundation.Python.3.10_qbz5n2kfra8p0\\LocalCache\\local-packages\\Python310\\site-packages\\seaborn\\_decorators.py:36: FutureWarning: Pass the following variable as a keyword arg: x. From version 0.12, the only valid positional argument will be `data`, and passing other arguments without an explicit keyword will result in an error or misinterpretation.\n",
      "  warnings.warn(\n"
     ]
    },
    {
     "data": {
      "text/plain": [
       "<AxesSubplot:xlabel='target'>"
      ]
     },
     "execution_count": 142,
     "metadata": {},
     "output_type": "execute_result"
    },
    {
     "data": {
      "image/png": "[encoded data removed]",
      "text/plain": [
       "<Figure size 432x288 with 1 Axes>"
      ]
     },
     "metadata": {
      "needs_background": "light"
     },
     "output_type": "display_data"
    }
   ],
   "source": [
    "# Target\n",
    "\n",
    "sns.boxplot(df[\"target\"])"
   ]
  },
  {
   "cell_type": "code",
   "execution_count": 143,
   "metadata": {},
   "outputs": [
    {
     "name": "stderr",
     "output_type": "stream",
     "text": [
      "C:\\Users\\AsJad\\AppData\\Local\\Temp\\ipykernel_4088\\1665899112.py:1: FutureWarning: Dropping of nuisance columns in DataFrame reductions (with 'numeric_only=None') is deprecated; in a future version this will raise TypeError.  Select only valid columns before calling the reduction.\n",
      "  df.skew()\n"
     ]
    },
    {
     "data": {
      "text/plain": [
       "booking_and_departure_time _difference    4.153372\n",
       "flight_duration_in_air                    1.364926\n",
       "Refundable ticket                        -9.752260\n",
       "Baggage weight                            0.446654\n",
       "Baggae Quantity                           0.018283\n",
       "target                                    2.080814\n",
       "dtype: float64"
      ]
     },
     "execution_count": 143,
     "metadata": {},
     "output_type": "execute_result"
    }
   ],
   "source": [
    "df.skew()"
   ]
  },
  {
   "cell_type": "code",
   "execution_count": 144,
   "metadata": {},
   "outputs": [
    {
     "name": "stderr",
     "output_type": "stream",
     "text": [
      "C:\\Users\\AsJad\\AppData\\Local\\Temp\\ipykernel_4088\\615572439.py:1: FutureWarning: Dropping of nuisance columns in DataFrame reductions (with 'numeric_only=None') is deprecated; in a future version this will raise TypeError.  Select only valid columns before calling the reduction.\n",
      "  df.kurtosis()\n"
     ]
    },
    {
     "data": {
      "text/plain": [
       "booking_and_departure_time _difference    28.923054\n",
       "flight_duration_in_air                     5.446825\n",
       "Refundable ticket                         93.143838\n",
       "Baggage weight                             0.025564\n",
       "Baggae Quantity                           -0.195962\n",
       "target                                     6.759530\n",
       "dtype: float64"
      ]
     },
     "execution_count": 144,
     "metadata": {},
     "output_type": "execute_result"
    }
   ],
   "source": [
    "df.kurtosis()"
   ]
  },
  {
   "cell_type": "code",
   "execution_count": 145,
   "metadata": {},
   "outputs": [],
   "source": [
    "# Remove outliers"
   ]
  },
  {
   "cell_type": "markdown",
   "metadata": {},
   "source": [
    "# Encoding Of variables"
   ]
  },
  {
   "cell_type": "code",
   "execution_count": 146,
   "metadata": {},
   "outputs": [],
   "source": [
    "df.drop([\"Ticket Purchase Date\",\"Departure Date\",\"Arrival Date\"],axis=1,inplace=True)"
   ]
  },
  {
   "cell_type": "code",
   "execution_count": 147,
   "metadata": {},
   "outputs": [
    {
     "data": {
      "text/html": [
       "<div>\n",
       "<style scoped>\n",
       "    .dataframe tbody tr th:only-of-type {\n",
       "        vertical-align: middle;\n",
       "    }\n",
       "\n",
       "    .dataframe tbody tr th {\n",
       "        vertical-align: top;\n",
       "    }\n",
       "\n",
       "    .dataframe thead th {\n",
       "        text-align: right;\n",
       "    }\n",
       "</style>\n",
       "<table border=\"1\" class=\"dataframe\">\n",
       "  <thead>\n",
       "    <tr style=\"text-align: right;\">\n",
       "      <th></th>\n",
       "      <th>booking_and_departure_time _difference</th>\n",
       "      <th>flight_duration_in_air</th>\n",
       "      <th>Company name</th>\n",
       "      <th>Refundable ticket</th>\n",
       "      <th>Baggage weight</th>\n",
       "      <th>Baggae Quantity</th>\n",
       "      <th>target</th>\n",
       "    </tr>\n",
       "  </thead>\n",
       "  <tbody>\n",
       "    <tr>\n",
       "      <th>16926576</th>\n",
       "      <td>500426.0</td>\n",
       "      <td>7140.0</td>\n",
       "      <td>gamma</td>\n",
       "      <td>True</td>\n",
       "      <td>20.0</td>\n",
       "      <td>1</td>\n",
       "      <td>11045.0</td>\n",
       "    </tr>\n",
       "    <tr>\n",
       "      <th>4413240</th>\n",
       "      <td>148272.0</td>\n",
       "      <td>7200.0</td>\n",
       "      <td>gamma</td>\n",
       "      <td>True</td>\n",
       "      <td>20.0</td>\n",
       "      <td>2</td>\n",
       "      <td>9650.0</td>\n",
       "    </tr>\n",
       "    <tr>\n",
       "      <th>492676</th>\n",
       "      <td>1881708.0</td>\n",
       "      <td>6900.0</td>\n",
       "      <td>beta</td>\n",
       "      <td>False</td>\n",
       "      <td>20.0</td>\n",
       "      <td>0</td>\n",
       "      <td>8697.0</td>\n",
       "    </tr>\n",
       "    <tr>\n",
       "      <th>2342299</th>\n",
       "      <td>389090.0</td>\n",
       "      <td>7800.0</td>\n",
       "      <td>alpha</td>\n",
       "      <td>True</td>\n",
       "      <td>15.0</td>\n",
       "      <td>1</td>\n",
       "      <td>7502.0</td>\n",
       "    </tr>\n",
       "    <tr>\n",
       "      <th>8625891</th>\n",
       "      <td>2287353.0</td>\n",
       "      <td>7200.0</td>\n",
       "      <td>gamma</td>\n",
       "      <td>True</td>\n",
       "      <td>20.0</td>\n",
       "      <td>2</td>\n",
       "      <td>11900.0</td>\n",
       "    </tr>\n",
       "  </tbody>\n",
       "</table>\n",
       "</div>"
      ],
      "text/plain": [
       "          booking_and_departure_time _difference  flight_duration_in_air  \\\n",
       "16926576                                500426.0                  7140.0   \n",
       "4413240                                 148272.0                  7200.0   \n",
       "492676                                 1881708.0                  6900.0   \n",
       "2342299                                 389090.0                  7800.0   \n",
       "8625891                                2287353.0                  7200.0   \n",
       "\n",
       "         Company name  Refundable ticket  Baggage weight  Baggae Quantity  \\\n",
       "16926576        gamma               True            20.0                1   \n",
       "4413240         gamma               True            20.0                2   \n",
       "492676           beta              False            20.0                0   \n",
       "2342299         alpha               True            15.0                1   \n",
       "8625891         gamma               True            20.0                2   \n",
       "\n",
       "           target  \n",
       "16926576  11045.0  \n",
       "4413240    9650.0  \n",
       "492676     8697.0  \n",
       "2342299    7502.0  \n",
       "8625891   11900.0  "
      ]
     },
     "execution_count": 147,
     "metadata": {},
     "output_type": "execute_result"
    }
   ],
   "source": [
    "df.head()"
   ]
  },
  {
   "cell_type": "markdown",
   "metadata": {},
   "source": [
    "To convert Column values into numerical 0,1,2.."
   ]
  },
  {
   "cell_type": "code",
   "execution_count": 148,
   "metadata": {},
   "outputs": [],
   "source": [
    "# Encoding\n",
    "from sklearn.preprocessing import LabelEncoder\n",
    "le = LabelEncoder()"
   ]
  },
  {
   "cell_type": "code",
   "execution_count": 149,
   "metadata": {},
   "outputs": [],
   "source": [
    "# Apply label Encoder\n",
    "\n",
    "df[\"Company name\"] = le.fit_transform(df[\"Company name\"])\n",
    "df[\"Refundable ticket\"] = le.fit_transform(df[\"Refundable ticket\"])\n",
    "df[\"Baggage weight\"] = le.fit_transform(df[\"Baggage weight\"])\n"
   ]
  },
  {
   "cell_type": "code",
   "execution_count": 150,
   "metadata": {},
   "outputs": [
    {
     "data": {
      "text/html": [
       "<div>\n",
       "<style scoped>\n",
       "    .dataframe tbody tr th:only-of-type {\n",
       "        vertical-align: middle;\n",
       "    }\n",
       "\n",
       "    .dataframe tbody tr th {\n",
       "        vertical-align: top;\n",
       "    }\n",
       "\n",
       "    .dataframe thead th {\n",
       "        text-align: right;\n",
       "    }\n",
       "</style>\n",
       "<table border=\"1\" class=\"dataframe\">\n",
       "  <thead>\n",
       "    <tr style=\"text-align: right;\">\n",
       "      <th></th>\n",
       "      <th>booking_and_departure_time _difference</th>\n",
       "      <th>flight_duration_in_air</th>\n",
       "      <th>Company name</th>\n",
       "      <th>Refundable ticket</th>\n",
       "      <th>Baggage weight</th>\n",
       "      <th>Baggae Quantity</th>\n",
       "      <th>target</th>\n",
       "    </tr>\n",
       "  </thead>\n",
       "  <tbody>\n",
       "    <tr>\n",
       "      <th>2312844</th>\n",
       "      <td>1301393.0</td>\n",
       "      <td>7200.0</td>\n",
       "      <td>2</td>\n",
       "      <td>1</td>\n",
       "      <td>2</td>\n",
       "      <td>1</td>\n",
       "      <td>7390.0</td>\n",
       "    </tr>\n",
       "    <tr>\n",
       "      <th>17874455</th>\n",
       "      <td>868075.0</td>\n",
       "      <td>7200.0</td>\n",
       "      <td>0</td>\n",
       "      <td>1</td>\n",
       "      <td>2</td>\n",
       "      <td>1</td>\n",
       "      <td>8381.0</td>\n",
       "    </tr>\n",
       "    <tr>\n",
       "      <th>7697330</th>\n",
       "      <td>607957.0</td>\n",
       "      <td>7200.0</td>\n",
       "      <td>2</td>\n",
       "      <td>1</td>\n",
       "      <td>2</td>\n",
       "      <td>2</td>\n",
       "      <td>9025.0</td>\n",
       "    </tr>\n",
       "    <tr>\n",
       "      <th>18032855</th>\n",
       "      <td>832684.0</td>\n",
       "      <td>7200.0</td>\n",
       "      <td>2</td>\n",
       "      <td>1</td>\n",
       "      <td>2</td>\n",
       "      <td>1</td>\n",
       "      <td>7765.0</td>\n",
       "    </tr>\n",
       "    <tr>\n",
       "      <th>5799966</th>\n",
       "      <td>618588.0</td>\n",
       "      <td>7140.0</td>\n",
       "      <td>2</td>\n",
       "      <td>1</td>\n",
       "      <td>2</td>\n",
       "      <td>1</td>\n",
       "      <td>7640.0</td>\n",
       "    </tr>\n",
       "    <tr>\n",
       "      <th>17113180</th>\n",
       "      <td>350741.0</td>\n",
       "      <td>7200.0</td>\n",
       "      <td>0</td>\n",
       "      <td>1</td>\n",
       "      <td>2</td>\n",
       "      <td>1</td>\n",
       "      <td>10545.0</td>\n",
       "    </tr>\n",
       "    <tr>\n",
       "      <th>572990</th>\n",
       "      <td>2166429.0</td>\n",
       "      <td>6900.0</td>\n",
       "      <td>1</td>\n",
       "      <td>1</td>\n",
       "      <td>2</td>\n",
       "      <td>0</td>\n",
       "      <td>8697.0</td>\n",
       "    </tr>\n",
       "    <tr>\n",
       "      <th>20132025</th>\n",
       "      <td>438054.0</td>\n",
       "      <td>6900.0</td>\n",
       "      <td>1</td>\n",
       "      <td>1</td>\n",
       "      <td>5</td>\n",
       "      <td>0</td>\n",
       "      <td>13350.0</td>\n",
       "    </tr>\n",
       "    <tr>\n",
       "      <th>20131879</th>\n",
       "      <td>682874.0</td>\n",
       "      <td>7200.0</td>\n",
       "      <td>0</td>\n",
       "      <td>1</td>\n",
       "      <td>2</td>\n",
       "      <td>1</td>\n",
       "      <td>10545.0</td>\n",
       "    </tr>\n",
       "    <tr>\n",
       "      <th>2762561</th>\n",
       "      <td>114219.0</td>\n",
       "      <td>7200.0</td>\n",
       "      <td>0</td>\n",
       "      <td>1</td>\n",
       "      <td>4</td>\n",
       "      <td>1</td>\n",
       "      <td>9235.0</td>\n",
       "    </tr>\n",
       "  </tbody>\n",
       "</table>\n",
       "</div>"
      ],
      "text/plain": [
       "          booking_and_departure_time _difference  flight_duration_in_air  \\\n",
       "2312844                                1301393.0                  7200.0   \n",
       "17874455                                868075.0                  7200.0   \n",
       "7697330                                 607957.0                  7200.0   \n",
       "18032855                                832684.0                  7200.0   \n",
       "5799966                                 618588.0                  7140.0   \n",
       "17113180                                350741.0                  7200.0   \n",
       "572990                                 2166429.0                  6900.0   \n",
       "20132025                                438054.0                  6900.0   \n",
       "20131879                                682874.0                  7200.0   \n",
       "2762561                                 114219.0                  7200.0   \n",
       "\n",
       "          Company name  Refundable ticket  Baggage weight  Baggae Quantity  \\\n",
       "2312844              2                  1               2                1   \n",
       "17874455             0                  1               2                1   \n",
       "7697330              2                  1               2                2   \n",
       "18032855             2                  1               2                1   \n",
       "5799966              2                  1               2                1   \n",
       "17113180             0                  1               2                1   \n",
       "572990               1                  1               2                0   \n",
       "20132025             1                  1               5                0   \n",
       "20131879             0                  1               2                1   \n",
       "2762561              0                  1               4                1   \n",
       "\n",
       "           target  \n",
       "2312844    7390.0  \n",
       "17874455   8381.0  \n",
       "7697330    9025.0  \n",
       "18032855   7765.0  \n",
       "5799966    7640.0  \n",
       "17113180  10545.0  \n",
       "572990     8697.0  \n",
       "20132025  13350.0  \n",
       "20131879  10545.0  \n",
       "2762561    9235.0  "
      ]
     },
     "execution_count": 150,
     "metadata": {},
     "output_type": "execute_result"
    }
   ],
   "source": [
    "df.sample(10)"
   ]
  },
  {
   "cell_type": "code",
   "execution_count": 151,
   "metadata": {},
   "outputs": [],
   "source": [
    "# To scale/Normalize our data\n",
    "# from sklearn.preprocessing import StandardScaler\n",
    "# sc = StandardScaler()\n",
    "# df[\"booking_and_departure_time _difference\"]=sc.fit_transform(df[\"booking_and_departure_time _difference\"])\n",
    "# df[\"flight_duration_in_air\"]=sc.fit_transform(df[\"flight_duration_in_aire\"])\n",
    "# df[\"target\"]=sc.fit_transform(df[\"target\"])\n"
   ]
  },
  {
   "cell_type": "markdown",
   "metadata": {},
   "source": [
    "# Machine Learning Modelling"
   ]
  },
  {
   "cell_type": "code",
   "execution_count": 152,
   "metadata": {},
   "outputs": [],
   "source": [
    "X = df.iloc[:,:-1]\n",
    "y = df.iloc[:,-1:]"
   ]
  },
  {
   "cell_type": "code",
   "execution_count": 153,
   "metadata": {},
   "outputs": [],
   "source": [
    "# Regression pipelines or algos\n",
    "\n",
    "from sklearn.linear_model import LinearRegression\n",
    "from sklearn.tree import DecisionTreeRegressor\n",
    "from sklearn.svm import SVR\n",
    "from sklearn.neighbors import KNeighborsRegressor\n",
    "from sklearn.model_selection import train_test_split\n",
    "from sklearn.metrics import r2_score,mean_absolute_error,mean_squared_error\n",
    "\n",
    "# Root mean sqaure error\n",
    "# rms = mean_absolute_error(y_test,y_pred,squared=False)\n"
   ]
  },
  {
   "cell_type": "code",
   "execution_count": 154,
   "metadata": {},
   "outputs": [],
   "source": [
    "# Shorten the names\n",
    "\n",
    "lr = LinearRegression()\n",
    "dt = DecisionTreeRegressor()\n",
    "svr = SVR()\n",
    "knn = KNeighborsRegressor()"
   ]
  },
  {
   "cell_type": "code",
   "execution_count": 155,
   "metadata": {},
   "outputs": [],
   "source": [
    "# Splitting the dataset into the Training set and Test set\n",
    "from sklearn.model_selection import train_test_split \n",
    "X_train, X_test, y_train, y_test = train_test_split(X, y, test_size=0.2, random_state=42)"
   ]
  },
  {
   "cell_type": "code",
   "execution_count": 156,
   "metadata": {},
   "outputs": [
    {
     "name": "stdout",
     "output_type": "stream",
     "text": [
      "LinearRegression()\n",
      "r2 score is:  0.10269067134868615\n",
      "Mean Absolute Error is:  2118.9491700848503\n",
      "Mean Squarred Error is:  8457782.315365491\n",
      "RMSE is:  2908.226661621389\n",
      "--------------------------------------------------------\n"
     ]
    },
    {
     "name": "stderr",
     "output_type": "stream",
     "text": [
      "C:\\Users\\AsJad\\AppData\\Local\\Packages\\PythonSoftwareFoundation.Python.3.10_qbz5n2kfra8p0\\LocalCache\\local-packages\\Python310\\site-packages\\sklearn\\utils\\validation.py:993: DataConversionWarning: A column-vector y was passed when a 1d array was expected. Please change the shape of y to (n_samples, ), for example using ravel().\n",
      "  y = column_or_1d(y, warn=True)\n"
     ]
    },
    {
     "name": "stdout",
     "output_type": "stream",
     "text": [
      "SVR()\n",
      "r2 score is:  -0.029634803715919755\n",
      "Mean Absolute Error is:  2169.0431016732437\n",
      "Mean Squarred Error is:  9705044.577261204\n",
      "RMSE is:  3115.2920532850853\n",
      "--------------------------------------------------------\n"
     ]
    }
   ],
   "source": [
    "# Model loop\n",
    "\n",
    "for i in [lr,dt,svr,knn]:\n",
    "    i.fit(X_train,y_train) # fitting our model\n",
    "    pred = i.predict(X_test) # predict\n",
    "    test_score = r2_score(y_test,pred) # test score\n",
    "    train_score = r2_score(y_train,i.predict(X_train)) # train score\n",
    "    if abs(train_score - test_score) <= 0.1:\n",
    "        print(i)\n",
    "        print(\"r2 score is: \",r2_score(y_test,pred))\n",
    "        print(\"Mean Absolute Error is: \",mean_absolute_error(y_test,pred))\n",
    "        print(\"Mean Squarred Error is: \",mean_squared_error(y_test,pred))\n",
    "        print(\"RMSE is: \",mean_squared_error(y_test,pred,squared = False))\n",
    "        print(\"--------------------------------------------------------\")\n",
    "\n",
    "# To save predictions\n",
    "\n",
    "res = pd.DataFrame(pred)\n",
    "res.index = X_test.index # its important for comparison\n",
    "res.columns = [\"prediction\"]\n",
    "res.to_csv(\"resources/prediction_results_with_train_test_split.csv\")"
   ]
  },
  {
   "cell_type": "code",
   "execution_count": 157,
   "metadata": {},
   "outputs": [],
   "source": [
    "# Fitting Linear Regression to the Training set\n",
    "# lr = LinearRegression().fit(X,y)\n",
    "# lr.predict(df_test)"
   ]
  },
  {
   "cell_type": "code",
   "execution_count": 161,
   "metadata": {},
   "outputs": [
    {
     "data": {
      "text/html": [
       "<div>\n",
       "<style scoped>\n",
       "    .dataframe tbody tr th:only-of-type {\n",
       "        vertical-align: middle;\n",
       "    }\n",
       "\n",
       "    .dataframe tbody tr th {\n",
       "        vertical-align: top;\n",
       "    }\n",
       "\n",
       "    .dataframe thead th {\n",
       "        text-align: right;\n",
       "    }\n",
       "</style>\n",
       "<table border=\"1\" class=\"dataframe\">\n",
       "  <thead>\n",
       "    <tr style=\"text-align: right;\">\n",
       "      <th></th>\n",
       "      <th>booking_and_departure_time _difference</th>\n",
       "      <th>flight_duration_in_air</th>\n",
       "      <th>Company name</th>\n",
       "      <th>Refundable ticket</th>\n",
       "      <th>Baggage weight</th>\n",
       "      <th>Baggae Quantity</th>\n",
       "      <th>target</th>\n",
       "      <th>time_1</th>\n",
       "      <th>time_2</th>\n",
       "    </tr>\n",
       "  </thead>\n",
       "  <tbody>\n",
       "    <tr>\n",
       "      <th>16044255</th>\n",
       "      <td>492015.0</td>\n",
       "      <td>7200.0</td>\n",
       "      <td>0</td>\n",
       "      <td>1</td>\n",
       "      <td>1</td>\n",
       "      <td>1</td>\n",
       "      <td>12945.0</td>\n",
       "      <td>16:40:15</td>\n",
       "      <td>2:00:00</td>\n",
       "    </tr>\n",
       "    <tr>\n",
       "      <th>8463882</th>\n",
       "      <td>3212012.0</td>\n",
       "      <td>7200.0</td>\n",
       "      <td>0</td>\n",
       "      <td>1</td>\n",
       "      <td>4</td>\n",
       "      <td>1</td>\n",
       "      <td>9707.0</td>\n",
       "      <td>4:13:32</td>\n",
       "      <td>2:00:00</td>\n",
       "    </tr>\n",
       "    <tr>\n",
       "      <th>10308205</th>\n",
       "      <td>444083.0</td>\n",
       "      <td>7200.0</td>\n",
       "      <td>0</td>\n",
       "      <td>1</td>\n",
       "      <td>1</td>\n",
       "      <td>1</td>\n",
       "      <td>6531.0</td>\n",
       "      <td>3:21:23</td>\n",
       "      <td>2:00:00</td>\n",
       "    </tr>\n",
       "    <tr>\n",
       "      <th>12440853</th>\n",
       "      <td>535524.0</td>\n",
       "      <td>7200.0</td>\n",
       "      <td>0</td>\n",
       "      <td>1</td>\n",
       "      <td>1</td>\n",
       "      <td>1</td>\n",
       "      <td>9045.0</td>\n",
       "      <td>4:45:24</td>\n",
       "      <td>2:00:00</td>\n",
       "    </tr>\n",
       "    <tr>\n",
       "      <th>17651589</th>\n",
       "      <td>307295.0</td>\n",
       "      <td>7200.0</td>\n",
       "      <td>2</td>\n",
       "      <td>1</td>\n",
       "      <td>2</td>\n",
       "      <td>1</td>\n",
       "      <td>7500.0</td>\n",
       "      <td>13:21:35</td>\n",
       "      <td>2:00:00</td>\n",
       "    </tr>\n",
       "    <tr>\n",
       "      <th>...</th>\n",
       "      <td>...</td>\n",
       "      <td>...</td>\n",
       "      <td>...</td>\n",
       "      <td>...</td>\n",
       "      <td>...</td>\n",
       "      <td>...</td>\n",
       "      <td>...</td>\n",
       "      <td>...</td>\n",
       "      <td>...</td>\n",
       "    </tr>\n",
       "    <tr>\n",
       "      <th>14584286</th>\n",
       "      <td>1958077.0</td>\n",
       "      <td>7200.0</td>\n",
       "      <td>0</td>\n",
       "      <td>1</td>\n",
       "      <td>4</td>\n",
       "      <td>1</td>\n",
       "      <td>10545.0</td>\n",
       "      <td>15:54:37</td>\n",
       "      <td>2:00:00</td>\n",
       "    </tr>\n",
       "    <tr>\n",
       "      <th>353060</th>\n",
       "      <td>333733.0</td>\n",
       "      <td>6900.0</td>\n",
       "      <td>1</td>\n",
       "      <td>0</td>\n",
       "      <td>2</td>\n",
       "      <td>0</td>\n",
       "      <td>8697.0</td>\n",
       "      <td>20:42:13</td>\n",
       "      <td>1:55:00</td>\n",
       "    </tr>\n",
       "    <tr>\n",
       "      <th>19984366</th>\n",
       "      <td>5693748.0</td>\n",
       "      <td>7200.0</td>\n",
       "      <td>2</td>\n",
       "      <td>1</td>\n",
       "      <td>2</td>\n",
       "      <td>1</td>\n",
       "      <td>6870.0</td>\n",
       "      <td>21:35:48</td>\n",
       "      <td>2:00:00</td>\n",
       "    </tr>\n",
       "    <tr>\n",
       "      <th>18813728</th>\n",
       "      <td>728471.0</td>\n",
       "      <td>7200.0</td>\n",
       "      <td>3</td>\n",
       "      <td>1</td>\n",
       "      <td>2</td>\n",
       "      <td>1</td>\n",
       "      <td>16500.0</td>\n",
       "      <td>10:21:11</td>\n",
       "      <td>2:00:00</td>\n",
       "    </tr>\n",
       "    <tr>\n",
       "      <th>4070804</th>\n",
       "      <td>639761.0</td>\n",
       "      <td>7200.0</td>\n",
       "      <td>0</td>\n",
       "      <td>1</td>\n",
       "      <td>4</td>\n",
       "      <td>1</td>\n",
       "      <td>10799.0</td>\n",
       "      <td>9:42:41</td>\n",
       "      <td>2:00:00</td>\n",
       "    </tr>\n",
       "  </tbody>\n",
       "</table>\n",
       "<p>100 rows × 9 columns</p>\n",
       "</div>"
      ],
      "text/plain": [
       "          booking_and_departure_time _difference  flight_duration_in_air  \\\n",
       "16044255                                492015.0                  7200.0   \n",
       "8463882                                3212012.0                  7200.0   \n",
       "10308205                                444083.0                  7200.0   \n",
       "12440853                                535524.0                  7200.0   \n",
       "17651589                                307295.0                  7200.0   \n",
       "...                                          ...                     ...   \n",
       "14584286                               1958077.0                  7200.0   \n",
       "353060                                  333733.0                  6900.0   \n",
       "19984366                               5693748.0                  7200.0   \n",
       "18813728                                728471.0                  7200.0   \n",
       "4070804                                 639761.0                  7200.0   \n",
       "\n",
       "          Company name  Refundable ticket  Baggage weight  Baggae Quantity  \\\n",
       "16044255             0                  1               1                1   \n",
       "8463882              0                  1               4                1   \n",
       "10308205             0                  1               1                1   \n",
       "12440853             0                  1               1                1   \n",
       "17651589             2                  1               2                1   \n",
       "...                ...                ...             ...              ...   \n",
       "14584286             0                  1               4                1   \n",
       "353060               1                  0               2                0   \n",
       "19984366             2                  1               2                1   \n",
       "18813728             3                  1               2                1   \n",
       "4070804              0                  1               4                1   \n",
       "\n",
       "           target    time_1   time_2  \n",
       "16044255  12945.0  16:40:15  2:00:00  \n",
       "8463882    9707.0   4:13:32  2:00:00  \n",
       "10308205   6531.0   3:21:23  2:00:00  \n",
       "12440853   9045.0   4:45:24  2:00:00  \n",
       "17651589   7500.0  13:21:35  2:00:00  \n",
       "...           ...       ...      ...  \n",
       "14584286  10545.0  15:54:37  2:00:00  \n",
       "353060     8697.0  20:42:13  1:55:00  \n",
       "19984366   6870.0  21:35:48  2:00:00  \n",
       "18813728  16500.0  10:21:11  2:00:00  \n",
       "4070804   10799.0   9:42:41  2:00:00  \n",
       "\n",
       "[100 rows x 9 columns]"
      ]
     },
     "execution_count": 161,
     "metadata": {},
     "output_type": "execute_result"
    }
   ],
   "source": [
    "# Function to calculate time\n",
    "\n",
    "def convert (seconds):\n",
    "    seconds = seconds % (24*3600)\n",
    "    hours = seconds // 3600\n",
    "    seconds %=3600\n",
    "    minutes = seconds //60\n",
    "    seconds %= 60\n",
    "    return \"%d:%02d:%02d\" % (hours,minutes,seconds)\n",
    "\n",
    "# column addition\n",
    "\n",
    "df[\"time_1\"] = df [\"booking_and_departure_time _difference\"].apply(convert)\n",
    "df[\"time_2\"] = df [\"flight_duration_in_air\"].apply(convert)\n",
    "df.sample(100)\n"
   ]
  },
  {
   "cell_type": "code",
   "execution_count": 163,
   "metadata": {},
   "outputs": [
    {
     "data": {
      "text/plain": [
       "'9:59:46'"
      ]
     },
     "execution_count": 163,
     "metadata": {},
     "output_type": "execute_result"
    }
   ],
   "source": [
    "df[\"time_1\"].max()"
   ]
  },
  {
   "cell_type": "markdown",
   "metadata": {},
   "source": [
    "# Some extra Methods"
   ]
  },
  {
   "cell_type": "code",
   "execution_count": 159,
   "metadata": {},
   "outputs": [],
   "source": [
    "date_format_str = \"%Y/%m/%d %H:%M:%S.%f\"\n",
    "\n",
    "df1[\"f1\"] = pd.to_datetime(df1[\"f1\"])\n",
    "df1[\"f4\"] = pd.to_datetime(df1[\"f4\"])\n",
    "\n",
    "f1 = pd.to_datetime(df1[\"f1\"],date_format_str)\n",
    "f4 = pd.to_datetime(df1[\"f4\"],date_format_str)\n",
    "\n",
    "diff = f4-f1\n",
    "df1['delta'] = diff"
   ]
  },
  {
   "cell_type": "code",
   "execution_count": 160,
   "metadata": {},
   "outputs": [
    {
     "data": {
      "text/html": [
       "<div>\n",
       "<style scoped>\n",
       "    .dataframe tbody tr th:only-of-type {\n",
       "        vertical-align: middle;\n",
       "    }\n",
       "\n",
       "    .dataframe tbody tr th {\n",
       "        vertical-align: top;\n",
       "    }\n",
       "\n",
       "    .dataframe thead th {\n",
       "        text-align: right;\n",
       "    }\n",
       "</style>\n",
       "<table border=\"1\" class=\"dataframe\">\n",
       "  <thead>\n",
       "    <tr style=\"text-align: right;\">\n",
       "      <th></th>\n",
       "      <th>Unnamed: 0</th>\n",
       "      <th>f1</th>\n",
       "      <th>f2</th>\n",
       "      <th>f3</th>\n",
       "      <th>f4</th>\n",
       "      <th>f5</th>\n",
       "      <th>f6</th>\n",
       "      <th>f7</th>\n",
       "      <th>f8</th>\n",
       "      <th>f9</th>\n",
       "      <th>f10</th>\n",
       "      <th>Unnamed: 0</th>\n",
       "      <th>target</th>\n",
       "      <th>delta</th>\n",
       "    </tr>\n",
       "  </thead>\n",
       "  <tbody>\n",
       "    <tr>\n",
       "      <th>0</th>\n",
       "      <td>0</td>\n",
       "      <td>2020-12-31 09:46:17.463002+00:00</td>\n",
       "      <td>x</td>\n",
       "      <td>y</td>\n",
       "      <td>2021-01-10 05:00:00+00:00</td>\n",
       "      <td>2021-01-10 07:00:00+00:00</td>\n",
       "      <td>gamma</td>\n",
       "      <td>True</td>\n",
       "      <td>0.0</td>\n",
       "      <td>0</td>\n",
       "      <td>c-2</td>\n",
       "      <td>0</td>\n",
       "      <td>7400.0</td>\n",
       "      <td>9 days 19:13:42.536998</td>\n",
       "    </tr>\n",
       "    <tr>\n",
       "      <th>1</th>\n",
       "      <td>1</td>\n",
       "      <td>2020-12-31 09:46:17.463002+00:00</td>\n",
       "      <td>x</td>\n",
       "      <td>y</td>\n",
       "      <td>2021-01-10 05:00:00+00:00</td>\n",
       "      <td>2021-01-10 07:00:00+00:00</td>\n",
       "      <td>gamma</td>\n",
       "      <td>True</td>\n",
       "      <td>32.0</td>\n",
       "      <td>1</td>\n",
       "      <td>c-2</td>\n",
       "      <td>1</td>\n",
       "      <td>8650.0</td>\n",
       "      <td>9 days 19:13:42.536998</td>\n",
       "    </tr>\n",
       "    <tr>\n",
       "      <th>2</th>\n",
       "      <td>2</td>\n",
       "      <td>2020-12-31 09:46:17.463002+00:00</td>\n",
       "      <td>x</td>\n",
       "      <td>y</td>\n",
       "      <td>2021-01-10 11:00:00+00:00</td>\n",
       "      <td>2021-01-10 13:00:00+00:00</td>\n",
       "      <td>gamma</td>\n",
       "      <td>True</td>\n",
       "      <td>32.0</td>\n",
       "      <td>1</td>\n",
       "      <td>c-4</td>\n",
       "      <td>2</td>\n",
       "      <td>9150.0</td>\n",
       "      <td>10 days 01:13:42.536998</td>\n",
       "    </tr>\n",
       "    <tr>\n",
       "      <th>3</th>\n",
       "      <td>3</td>\n",
       "      <td>2020-12-31 09:46:17.463002+00:00</td>\n",
       "      <td>x</td>\n",
       "      <td>y</td>\n",
       "      <td>2021-01-10 11:00:00+00:00</td>\n",
       "      <td>2021-01-10 13:00:00+00:00</td>\n",
       "      <td>gamma</td>\n",
       "      <td>True</td>\n",
       "      <td>32.0</td>\n",
       "      <td>2</td>\n",
       "      <td>c-4</td>\n",
       "      <td>3</td>\n",
       "      <td>10400.0</td>\n",
       "      <td>10 days 01:13:42.536998</td>\n",
       "    </tr>\n",
       "    <tr>\n",
       "      <th>4</th>\n",
       "      <td>4</td>\n",
       "      <td>2020-12-31 09:46:18.191119+00:00</td>\n",
       "      <td>x</td>\n",
       "      <td>y</td>\n",
       "      <td>2021-01-25 11:00:00+00:00</td>\n",
       "      <td>2021-01-25 12:55:00+00:00</td>\n",
       "      <td>beta</td>\n",
       "      <td>False</td>\n",
       "      <td>20.0</td>\n",
       "      <td>0</td>\n",
       "      <td>b-69</td>\n",
       "      <td>4</td>\n",
       "      <td>8697.0</td>\n",
       "      <td>25 days 01:13:41.808881</td>\n",
       "    </tr>\n",
       "  </tbody>\n",
       "</table>\n",
       "</div>"
      ],
      "text/plain": [
       "   Unnamed: 0                               f1 f2 f3  \\\n",
       "0           0 2020-12-31 09:46:17.463002+00:00  x  y   \n",
       "1           1 2020-12-31 09:46:17.463002+00:00  x  y   \n",
       "2           2 2020-12-31 09:46:17.463002+00:00  x  y   \n",
       "3           3 2020-12-31 09:46:17.463002+00:00  x  y   \n",
       "4           4 2020-12-31 09:46:18.191119+00:00  x  y   \n",
       "\n",
       "                         f4                         f5     f6     f7    f8  \\\n",
       "0 2021-01-10 05:00:00+00:00  2021-01-10 07:00:00+00:00  gamma   True   0.0   \n",
       "1 2021-01-10 05:00:00+00:00  2021-01-10 07:00:00+00:00  gamma   True  32.0   \n",
       "2 2021-01-10 11:00:00+00:00  2021-01-10 13:00:00+00:00  gamma   True  32.0   \n",
       "3 2021-01-10 11:00:00+00:00  2021-01-10 13:00:00+00:00  gamma   True  32.0   \n",
       "4 2021-01-25 11:00:00+00:00  2021-01-25 12:55:00+00:00   beta  False  20.0   \n",
       "\n",
       "   f9   f10  Unnamed: 0   target                   delta  \n",
       "0   0   c-2           0   7400.0  9 days 19:13:42.536998  \n",
       "1   1   c-2           1   8650.0  9 days 19:13:42.536998  \n",
       "2   1   c-4           2   9150.0 10 days 01:13:42.536998  \n",
       "3   2   c-4           3  10400.0 10 days 01:13:42.536998  \n",
       "4   0  b-69           4   8697.0 25 days 01:13:41.808881  "
      ]
     },
     "execution_count": 160,
     "metadata": {},
     "output_type": "execute_result"
    }
   ],
   "source": [
    "df1.head()"
   ]
  }
 ],
 "metadata": {
  "interpreter": {
   "hash": "2756485439f476779d047bbf1729740e73718adfd5417046004a4e991f30b08e"
  },
  "kernelspec": {
   "display_name": "Python 3.10.4 64-bit (windows store)",
   "language": "python",
   "name": "python3"
  },
  "language_info": {
   "codemirror_mode": {
    "name": "ipython",
    "version": 3
   },
   "file_extension": ".py",
   "mimetype": "text/x-python",
   "name": "python",
   "nbconvert_exporter": "python",
   "pygments_lexer": "ipython3",
   "version": "3.10.4"
  },
  "orig_nbformat": 4
 },
 "nbformat": 4,
 "nbformat_minor": 2
}
